{
 "cells": [
  {
   "cell_type": "markdown",
   "metadata": {
    "id": "iba1GsnQyq-t"
   },
   "source": [
    "a. Ví dụ minh họa:\n",
    "viết một hàm Python để tính toán giá trị ⌈n/m⌉ và minh họa bằng cách gán người vào tháng sinh."
   ]
  },
  {
   "cell_type": "code",
   "execution_count": 2,
   "metadata": {
    "colab": {
     "base_uri": "https://localhost:8080/"
    },
    "executionInfo": {
     "elapsed": 49,
     "status": "ok",
     "timestamp": 1751621784752,
     "user": {
      "displayName": "Nhan Nguyen",
      "userId": "13098471223571293492"
     },
     "user_tz": -420
    },
    "id": "B1dLwDPpydvd",
    "outputId": "39b34c0e-c943-4972-ecca-16c551be8d6d"
   },
   "outputs": [
    {
     "name": "stdout",
     "output_type": "stream",
     "text": [
      "--- Ví dụ: Sinh nhật theo tháng ---\n",
      "Có 13 'chim bồ câu' và 12 'chuồng'.\n",
      "Theo Nguyên lý Dirichlet, ít nhất có một 'chuồng' chứa: 2 'chim bồ câu' trở lên.\n",
      "\n",
      "--- Ví dụ: Sinh nhật theo ngày trong tuần ---\n",
      "Có 30 'chim bồ câu' và 7 'chuồng'.\n",
      "Theo Nguyên lý Dirichlet, ít nhất có một 'chuồng' chứa: 5 'chim bồ câu' trở lên.\n"
     ]
    },
    {
     "data": {
      "text/plain": [
       "5"
      ]
     },
     "execution_count": 2,
     "metadata": {},
     "output_type": "execute_result"
    }
   ],
   "source": [
    "import math\n",
    "\n",
    "def ap_dung_dirichlet_tong_quat(n_chim, m_chuong):\n",
    "    \"\"\"\n",
    "    Tính toán số chim tối thiểu trong một chuồng theo Nguyên lý Dirichlet dạng tổng quát.\n",
    "    n_chim: số lượng chim bồ câu (ví dụ: số người)\n",
    "    m_chuong: số lượng chuồng (ví dụ: số tháng trong năm)\n",
    "    \"\"\"\n",
    "    if m_chuong <= 0:\n",
    "        return \"Số chuồng phải lớn hơn 0.\"\n",
    "\n",
    "    # Sử dụng math.ceil để làm tròn lên\n",
    "    so_chim_toi_thieu = math.ceil(n_chim / m_chuong)\n",
    "\n",
    "    print(f\"Có {n_chim} 'chim bồ câu' và {m_chuong} 'chuồng'.\")\n",
    "    print(f\"Theo Nguyên lý Dirichlet, ít nhất có một 'chuồng' chứa: {so_chim_toi_thieu} 'chim bồ câu' trở lên.\")\n",
    "    return so_chim_toi_thieu\n",
    "\n",
    "# Ví dụ 1: 13 người, 12 tháng\n",
    "print(\"--- Ví dụ: Sinh nhật theo tháng ---\")\n",
    "ap_dung_dirichlet_tong_quat(13, 12)\n",
    "\n",
    "# Ví dụ 2: 30 học sinh, 7 ngày trong tuần (sinh nhật trong tuần)\n",
    "print(\"\\n--- Ví dụ: Sinh nhật theo ngày trong tuần ---\")\n",
    "ap_dung_dirichlet_tong_quat(30, 7)\n"
   ]
  },
  {
   "cell_type": "markdown",
   "metadata": {
    "id": "O6qnktXFy3GO"
   },
   "source": [
    "b. Yêu cầu sinh viên sửa và lý giải\n",
    "\n",
    "•\tMột trường học có 400 học sinh. Hãy tính xem chắc chắn có ít nhất bao nhiêu học sinh có cùng ngày sinh trong năm (bỏ qua năm nhuận, coi 1 năm có 365 ngày).\n",
    "\n",
    "•\tGiả sử có 200 chiếc kẹo được chia đều vào 3 cái túi. Hỏi chắc chắn có ít nhất một túi chứa bao nhiêu chiếc kẹo?\n",
    "\n",
    "•\tGợi ý nâng cao:\n",
    "\n",
    "o\tBạn có 100 quả bóng được tô 5 màu khác nhau. Hỏi bạn phải lấy ra ít nhất bao nhiêu quả bóng để chắc chắn có ít nhất 20 quả bóng cùng màu? (Đây là bài toán ngược, yêu cầu suy luận ngược từ nguyên lý).\n"
   ]
  },
  {
   "cell_type": "code",
   "execution_count": null,
   "metadata": {
    "id": "qmyti6XEy1Mo"
   },
   "outputs": [],
   "source": [
    "import math\n",
    "\n",
    "def ap_dung_dirichlet_tong_quat(n_chim, m_chuong):\n",
    "    if m_chuong <= 0:\n",
    "        return \"Số chuồng phải lớn hơn 0.\"\n",
    "    \n",
    "    so_chim_toi_thieu = math.ceil(n_chim / m_chuong)\n",
    "\n",
    "    print(f\"Có {n_chim} đối tượng và {m_chuong} ngăn.\")\n",
    "    print(f\"👉 Theo Nguyên lý Dirichlet: ít nhất một ngăn chứa {so_chim_toi_thieu} đối tượng trở lên.\\n\")\n",
    "    return so_chim_toi_thieu\n",
    "\n",
    "print(\"Bài 1: 400 học sinh, 365 ngày sinh\")\n",
    "ap_dung_dirichlet_tong_quat(400, 365)\n",
    "\n",
    "print(\"Bài 2: 200 chiếc kẹo, 3 túi\")\n",
    "ap_dung_dirichlet_tong_quat(200, 3)\n",
    "\n",
    "print(\"Bài 3: 100 quả bóng, 5 màu, chắc chắn có 20 quả cùng màu\")\n",
    "\n",
    "max_truong_hop_xau = 5 * 19\n",
    "so_bong_can_rut = max_truong_hop_xau + 1\n",
    "\n",
    "print(f\"Trường hợp xấu nhất: 5 màu × 19 = {max_truong_hop_xau} quả bóng (chưa có màu nào đủ 20).\")\n",
    "print(f\"Vậy cần rút ít nhất {so_bong_can_rut} quả bóng để chắc chắn có 20 quả cùng màu.\\n\")\n"
   ]
  }
 ],
 "metadata": {
  "colab": {
   "authorship_tag": "ABX9TyMql4j8wi/a07NsEl9z3Y9e",
   "provenance": []
  },
  "kernelspec": {
   "display_name": "Python 3",
   "name": "python3"
  },
  "language_info": {
   "name": "python"
  }
 },
 "nbformat": 4,
 "nbformat_minor": 0
}
