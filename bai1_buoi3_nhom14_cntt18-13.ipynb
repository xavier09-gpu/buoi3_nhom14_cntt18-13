{
 "cells": [
  {
   "cell_type": "markdown",
   "metadata": {
    "id": "i1ondN4OyL2J"
   },
   "source": [
    "a. Ví dụ minh họa"
   ]
  },
  {
   "cell_type": "code",
   "execution_count": 2,
   "metadata": {
    "colab": {
     "base_uri": "https://localhost:8080/"
    },
    "executionInfo": {
     "elapsed": 12,
     "status": "ok",
     "timestamp": 1751621621940,
     "user": {
      "displayName": "Nhan Nguyen",
      "userId": "13098471223571293492"
     },
     "user_tz": -420
    },
    "id": "AteTx_oex_sY",
    "outputId": "30c08f95-d7a3-49ac-89bc-572edc0657e3"
   },
   "outputs": [
    {
     "name": "stdout",
     "output_type": "stream",
     "text": [
      "--- Mô phỏng rút 2 chiếc tất ---\n",
      "Bạn đã rút ra: ['trắng', 'đen']\n",
      "Số tất đen: 1, Số tất trắng: 1\n",
      "=> CHƯA CHẮC CHẮN có đôi tất cùng màu.\n",
      "\n",
      "--- Mô phỏng rút 3 chiếc tất ---\n",
      "Bạn đã rút ra: ['trắng', 'trắng', 'đen']\n",
      "Số tất đen: 1, Số tất trắng: 2\n",
      "=> CHẮC CHẮN CÓ MỘT ĐÔI TẤT CÙNG MÀU (theo Nguyên lý Dirichlet)!\n",
      "Bạn đã rút ra: ['đen', 'trắng', 'đen']\n",
      "Số tất đen: 2, Số tất trắng: 1\n",
      "=> CHẮC CHẮN CÓ MỘT ĐÔI TẤT CÙNG MÀU (theo Nguyên lý Dirichlet)!\n",
      "Bạn đã rút ra: ['trắng', 'đen', 'đen']\n",
      "Số tất đen: 2, Số tất trắng: 1\n",
      "=> CHẮC CHẮN CÓ MỘT ĐÔI TẤT CÙNG MÀU (theo Nguyên lý Dirichlet)!\n"
     ]
    },
    {
     "data": {
      "text/plain": [
       "True"
      ]
     },
     "execution_count": 2,
     "metadata": {},
     "output_type": "execute_result"
    }
   ],
   "source": [
    "import random\n",
    "\n",
    "def mo_phong_rut_tat(so_luong_rut):\n",
    "    \"\"\"\n",
    "    Mô phỏng việc rút tất từ ngăn kéo và kiểm tra có đôi tất cùng màu hay không.\n",
    "    Ngăn kéo có: 5 đôi tất đen (10 chiếc), 5 đôi tất trắng (10 chiếc).\n",
    "    \"\"\"\n",
    "    tat_trong_ngan_keo = ['đen'] * 10 + ['trắng'] * 10\n",
    "\n",
    "    # Trộn ngẫu nhiên các chiếc tất\n",
    "    random.shuffle(tat_trong_ngan_keo)\n",
    "\n",
    "    # Rút ra số lượng tất yêu cầu\n",
    "    tat_da_rut = tat_trong_ngan_keo[:so_luong_rut]\n",
    "\n",
    "    # Đếm số lượng tất đen và trắng đã rút được\n",
    "    dem_den = tat_da_rut.count('đen')\n",
    "    dem_trang = tat_da_rut.count('trắng')\n",
    "\n",
    "    print(f\"Bạn đã rút ra: {tat_da_rut}\")\n",
    "    print(f\"Số tất đen: {dem_den}, Số tất trắng: {dem_trang}\")\n",
    "\n",
    "    # Kiểm tra xem có đôi tất cùng màu hay không (ít nhất 2 chiếc cùng màu)\n",
    "    if dem_den >= 2 or dem_trang >= 2:\n",
    "        print(\"=> CHẮC CHẮN CÓ MỘT ĐÔI TẤT CÙNG MÀU (theo Nguyên lý Dirichlet)!\")\n",
    "        return True\n",
    "    else:\n",
    "        print(\"=> CHƯA CHẮC CHẮN có đôi tất cùng màu.\")\n",
    "        return False\n",
    "\n",
    "print(\"--- Mô phỏng rút 2 chiếc tất ---\")\n",
    "mo_phong_rut_tat(2) # Thử chạy vài lần để thấy kết quả có thể chưa chắc chắn\n",
    "\n",
    "print(\"\\n--- Mô phỏng rút 3 chiếc tất ---\")\n",
    "mo_phong_rut_tat(3) # Thử chạy vài lần, bạn sẽ thấy kết quả luôn là \"CHẮC CHẮN CÓ MỘT ĐÔI\"\n",
    "mo_phong_rut_tat(3)\n",
    "mo_phong_rut_tat(3)\n"
   ]
  },
  {
   "cell_type": "markdown",
   "metadata": {
    "id": "vF_9MdwtyTrm"
   },
   "source": [
    "b. Yêu cầu sinh viên sửa và lý giải\n",
    "\n",
    "•\tChạy lại hàm mo_phong_rut_tat(2) nhiều lần. Quan sát và giải thích tại sao đôi khi bạn có đôi tất cùng màu, đôi khi lại không.\n",
    "\n",
    "•\tĐiều chỉnh hàm mo_phong_rut_tat để ngăn kéo có thêm 3 đôi tất màu xám (tức là 6 chiếc màu xám). Hỏi bạn cần rút ra bao nhiêu chiếc tất để chắc chắn có một đôi tất cùng màu? Chạy mô phỏng để kiểm chứng.\n"
   ]
  },
  {
   "cell_type": "code",
   "execution_count": null,
   "metadata": {
    "vscode": {
     "languageId": "ini"
    }
   },
   "outputs": [],
   "source": [
    "import random\n",
    "tat_trong_ngan_keo = ['đen'] * 10 + ['trắng'] * 10 + ['xám'] * 6\n",
    "\n",
    "def mo_phong_rut_tat(so_luong_rut):\n",
    "    tat_copy = tat_trong_ngan_keo.copy()\n",
    "    random.shuffle(tat_copy)\n",
    "\n",
    "    tat_da_rut = tat_copy[:so_luong_rut]\n",
    "\n",
    "    dem_den = tat_da_rut.count('đen')\n",
    "    dem_trang = tat_da_rut.count('trắng')\n",
    "    dem_xam = tat_da_rut.count('xám')\n",
    "\n",
    "    print(f\"Bạn đã rút ra: {tat_da_rut}\")\n",
    "    print(f\"Số tất đen: {dem_den}, trắng: {dem_trang}, xám: {dem_xam}\")\n",
    "\n",
    "    if dem_den >= 2 or dem_trang >= 2 or dem_xam >= 2:\n",
    "        print(\"Bạn có đôi tất cùng màu!\")\n",
    "        return True\n",
    "    else:\n",
    "        print(\"Bạn không có đôi tất cùng màu!\")\n",
    "        return False\n",
    "\n",
    "print(\"\\n--- Thử rút 3 chiếc tất ---\")\n",
    "mo_phong_rut_tat(3)\n",
    "\n",
    "print(\"\\n--- Thử rút 4 chiếc tất ---\")\n",
    "mo_phong_rut_tat(4)\n"
   ]
  },
  {
   "cell_type": "code",
   "execution_count": null,
   "metadata": {
    "id": "Ak2HaGJxyJAM"
   },
   "outputs": [],
   "source": []
  }
 ],
 "metadata": {
  "colab": {
   "authorship_tag": "ABX9TyNM4Y/u75c5+zgPW7cCWIxr",
   "provenance": []
  },
  "kernelspec": {
   "display_name": "Python 3",
   "name": "python3"
  },
  "language_info": {
   "name": "python"
  }
 },
 "nbformat": 4,
 "nbformat_minor": 0
}
